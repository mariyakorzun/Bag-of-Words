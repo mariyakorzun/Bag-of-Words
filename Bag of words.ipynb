{
 "cells": [
  {
   "cell_type": "markdown",
   "metadata": {},
   "source": [
    "# Мешок слов"
   ]
  },
  {
   "cell_type": "markdown",
   "metadata": {},
   "source": [
    "Дан набор предложений, скопированных с Википедии. Каждое из них имеет \"кошачью тему\" в одном из трех смыслов:\n",
    "\n",
    " + кошки (животные)\n",
    " + UNIX-утилита cat для вывода содержимого файлов\n",
    " + версии операционной системы OS X, названные в честь семейства кошачьих\n",
    "\n",
    "Задача — найти два предложения, которые ближе всего по смыслу к расположенному в самой первой строке. В качестве меры близости по смыслу использовать косинусное расстояние."
   ]
  },
  {
   "cell_type": "markdown",
   "metadata": {},
   "source": [
    "Импортируем необходимые библиотеки."
   ]
  },
  {
   "cell_type": "code",
   "execution_count": 14,
   "metadata": {},
   "outputs": [],
   "source": [
    "import numpy\n",
    "import re\n",
    "from scipy import spatial"
   ]
  },
  {
   "cell_type": "markdown",
   "metadata": {},
   "source": [
    "Читаем файл с предложениями (sentences.txt)."
   ]
  },
  {
   "cell_type": "code",
   "execution_count": 2,
   "metadata": {},
   "outputs": [],
   "source": [
    "file_obj = open('sentences.txt', 'r')\n",
    "data_list = file_obj.readlines()"
   ]
  },
  {
   "cell_type": "code",
   "execution_count": 18,
   "metadata": {},
   "outputs": [
    {
     "data": {
      "text/plain": [
       "['In comparison to dogs, cats have not undergone major changes during the domestication process.\\n',\n",
       " 'As cat simply catenates streams of bytes, it can be also used to concatenate binary files, where it will just concatenate sequence of bytes.\\n',\n",
       " 'A common interactive use of cat for a single file is to output the content of a file to standard output.\\n',\n",
       " 'Cats can hear sounds too faint or too high in frequency for human ears, such as those made by mice and other small animals.\\n',\n",
       " 'In one, people deliberately tamed cats in a process of artificial selection, as they were useful predators of vermin.\\n',\n",
       " 'The domesticated cat and its closest wild ancestor are both diploid organisms that possess 38 chromosomes and roughly 20,000 genes.\\n',\n",
       " 'Domestic cats are similar in size to the other members of the genus Felis, typically weighing between 4 and 5 kg (8.8 and 11.0 lb).\\n',\n",
       " 'However, if the output is piped or redirected, cat is unnecessary.\\n',\n",
       " 'cat with one named file is safer where human error is a concern - one wrong use of the default redirection symbol \">\" instead of \"<\" (often adjacent on keyboards) may permanently delete the file you were just needing to read.\\n',\n",
       " 'In terms of legibility, a sequence of commands starting with cat and connected by pipes has a clear left-to-right flow of information.\\n',\n",
       " 'Cat command is one of the basic commands that you learned when you started in the Unix / Linux world.\\n',\n",
       " 'Using cat command, the lines received from stdin can be redirected to a new file using redirection symbols.\\n',\n",
       " 'When you type simply cat command without any arguments, it just receives the stdin content and displays it in the stdout.\\n',\n",
       " 'Leopard was released on October 26, 2007 as the successor of Tiger (version 10.4), and is available in two editions.\\n',\n",
       " 'According to Apple, Leopard contains over 300 changes and enhancements over its predecessor, Mac OS X Tiger.\\n',\n",
       " 'As of Mid 2010, some Apple computers have firmware factory installed which will no longer allow installation of Mac OS X Leopard.\\n',\n",
       " 'Since Apple moved to using Intel processors in their computers, the OSx86 community has developed and now also allows Mac OS X Tiger and later releases to be installed on non-Apple x86-based computers.\\n',\n",
       " \"OS X Mountain Lion was released on July 25, 2012 for purchase and download through Apple's Mac App Store, as part of a switch to releasing OS X versions online and every year.\\n\",\n",
       " 'Apple has released a small patch for the three most recent versions of Safari running on OS X Yosemite, Mavericks, and Mountain Lion.\\n',\n",
       " 'The Mountain Lion release marks the second time Apple has offered an incremental upgrade, rather than releasing a new cat entirely.\\n',\n",
       " \"Mac OS X Mountain Lion installs in place, so you won't need to create a separate disk or run the installation off an external drive.\\n\",\n",
       " \"The fifth major update to Mac OS X, Leopard, contains such a mountain of features - more than 300 by Apple's count.\"]"
      ]
     },
     "execution_count": 18,
     "metadata": {},
     "output_type": "execute_result"
    }
   ],
   "source": [
    "data_list"
   ]
  },
  {
   "cell_type": "markdown",
   "metadata": {},
   "source": [
    "Вводим функции."
   ]
  },
  {
   "cell_type": "code",
   "execution_count": 6,
   "metadata": {},
   "outputs": [],
   "source": [
    "def tokenize(sentences):\n",
    "    '''\n",
    "    Эта функция пополняет наш словарный запас, просматривая все наши документы (предложения),\n",
    "    извлекая слова из каждого предложения, удаляя дубликаты с помощью функции set, \n",
    "    и возвращает отсортированный список слов.\n",
    "    '''\n",
    "    words = []\n",
    "    for sentence in sentences:\n",
    "        w = word_extraction(sentence)\n",
    "        words.extend(w)\n",
    "        \n",
    "    words = sorted(list(set(words)))\n",
    "    return words"
   ]
  },
  {
   "cell_type": "code",
   "execution_count": 3,
   "metadata": {},
   "outputs": [],
   "source": [
    "def word_extraction(sentence):\n",
    "    '''\n",
    "    Данная функция извлекает слова из документа с помощью регулярных выражений, \n",
    "    при этом преобразовывает все слова в нижний регистр и исключает стоп-слова.\n",
    "    '''\n",
    "    ignore = []\n",
    "    words = re.sub(\"[^A-z]\", \" \", sentence).split()\n",
    "    cleaned_text = [w.lower() for w in words if w not in ignore]\n",
    "    return cleaned_text    "
   ]
  },
  {
   "cell_type": "code",
   "execution_count": 7,
   "metadata": {},
   "outputs": [],
   "source": [
    "def generate_bow(allsentences): \n",
    "    '''\n",
    "    Функция сопоставляет каждому слову из списка всех слов, встречающихся в предложениях, \n",
    "    индекс от нуля до (d - 1), где d — число различных слов в предложениях. Далее она создает\n",
    "    матрицу размера n * d, где n — число предложений, и заполняет ее: элемент с индексом (i, j) \n",
    "    в этой матрице равен количеству вхождений j-го слова в i-е предложение. \n",
    "    '''\n",
    "    vocab = tokenize(allsentences)\n",
    "    \n",
    "    empty_array = []\n",
    "    for sentence in allsentences:\n",
    "        words = word_extraction(sentence)\n",
    "        bag_vector = numpy.zeros(len(vocab))\n",
    "        for w in words:\n",
    "            for i,word in enumerate(vocab):\n",
    "                if word == w: \n",
    "                    bag_vector[i] += 1\n",
    "        empty_array.append(bag_vector)\n",
    "    empty_array = numpy.asarray(empty_array)\n",
    "        \n",
    "    return empty_array"
   ]
  },
  {
   "cell_type": "markdown",
   "metadata": {},
   "source": [
    "Применяем функции к датасету."
   ]
  },
  {
   "cell_type": "code",
   "execution_count": 9,
   "metadata": {},
   "outputs": [
    {
     "name": "stdout",
     "output_type": "stream",
     "text": [
      "[[0. 0. 0. ... 0. 0. 0.]\n",
      " [0. 0. 0. ... 0. 0. 0.]\n",
      " [3. 0. 0. ... 0. 0. 0.]\n",
      " ...\n",
      " [1. 0. 0. ... 0. 0. 0.]\n",
      " [1. 0. 0. ... 0. 0. 1.]\n",
      " [1. 0. 0. ... 0. 0. 0.]]\n"
     ]
    }
   ],
   "source": [
    "result = generate_bow(data_list)\n",
    "print (result)"
   ]
  },
  {
   "cell_type": "markdown",
   "metadata": {},
   "source": [
    "Получается матрица размера 22 * 254. То есть у нас 22 предложения и 254 различных слова в данных предложениях."
   ]
  },
  {
   "cell_type": "code",
   "execution_count": 8,
   "metadata": {},
   "outputs": [
    {
     "name": "stdout",
     "output_type": "stream",
     "text": [
      "(22, 254)\n"
     ]
    }
   ],
   "source": [
    "print (result.shape)"
   ]
  },
  {
   "cell_type": "markdown",
   "metadata": {},
   "source": [
    "Находим косинусное расстояние от предложения в самой первой строке (In comparison to dogs, cats have not undergone...) до всех остальных с помощью функции scipy.spatial.distance.cosine."
   ]
  },
  {
   "cell_type": "code",
   "execution_count": 16,
   "metadata": {},
   "outputs": [],
   "source": [
    "distance = spatial.distance.cdist(result[0:1], result[1:], metric='cosine')"
   ]
  },
  {
   "cell_type": "code",
   "execution_count": 17,
   "metadata": {},
   "outputs": [
    {
     "name": "stdout",
     "output_type": "stream",
     "text": [
      "[[0.95275444 0.86447381 0.89517152 0.77708871 0.94023857 0.73273876\n",
      "  0.92587507 0.88427249 0.90550888 0.83281654 0.88047714 0.83964325\n",
      "  0.87035926 0.87401184 0.94427218 0.84063619 0.9566445  0.94427218\n",
      "  0.88854436 0.84275727 0.82503645]]\n"
     ]
    }
   ],
   "source": [
    "print (distance)"
   ]
  },
  {
   "cell_type": "code",
   "execution_count": 648,
   "metadata": {},
   "outputs": [
    {
     "name": "stdout",
     "output_type": "stream",
     "text": [
      "[[0.73273876 0.77708871 0.82503645 0.83281654 0.83964325 0.84063619\n",
      "  0.84275727 0.86447381 0.87035926 0.87401184 0.88047714 0.88427249\n",
      "  0.88854436 0.89517152 0.90550888 0.92587507 0.94023857 0.94427218\n",
      "  0.94427218 0.95275444 0.9566445 ]]\n"
     ]
    }
   ],
   "source": [
    "print (sort_distance)"
   ]
  },
  {
   "cell_type": "markdown",
   "metadata": {},
   "source": [
    "Ближайшие к предложению в самой первой строке по косинусному расстоянию предложения:"
   ]
  },
  {
   "cell_type": "code",
   "execution_count": 22,
   "metadata": {},
   "outputs": [
    {
     "data": {
      "text/plain": [
       "'Domestic cats are similar in size to the other members of the genus Felis, typically weighing between 4 and 5 kg (8.8 and 11.0 lb).\\n'"
      ]
     },
     "execution_count": 22,
     "metadata": {},
     "output_type": "execute_result"
    }
   ],
   "source": [
    "data_list[6]"
   ]
  },
  {
   "cell_type": "code",
   "execution_count": 23,
   "metadata": {},
   "outputs": [
    {
     "data": {
      "text/plain": [
       "'In one, people deliberately tamed cats in a process of artificial selection, as they were useful predators of vermin.\\n'"
      ]
     },
     "execution_count": 23,
     "metadata": {},
     "output_type": "execute_result"
    }
   ],
   "source": [
    "data_list[4]"
   ]
  },
  {
   "cell_type": "markdown",
   "metadata": {},
   "source": [
    "Оба найденных предложения близки по смыслу к расположенному в самой первой строке, так как посвящены теме - кошки (животные)."
   ]
  }
 ],
 "metadata": {
  "kernelspec": {
   "display_name": "Python 3",
   "language": "python",
   "name": "python3"
  },
  "language_info": {
   "codemirror_mode": {
    "name": "ipython",
    "version": 3
   },
   "file_extension": ".py",
   "mimetype": "text/x-python",
   "name": "python",
   "nbconvert_exporter": "python",
   "pygments_lexer": "ipython3",
   "version": "3.7.4"
  }
 },
 "nbformat": 4,
 "nbformat_minor": 2
}
